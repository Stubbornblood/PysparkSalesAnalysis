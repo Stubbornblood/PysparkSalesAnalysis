{
 "cells": [
  {
   "cell_type": "code",
   "execution_count": 1,
   "metadata": {},
   "outputs": [
    {
     "data": {
      "text/html": [
       "\n",
       "            <div>\n",
       "                <p><b>SparkSession - in-memory</b></p>\n",
       "                \n",
       "        <div>\n",
       "            <p><b>SparkContext</b></p>\n",
       "\n",
       "            <p><a href=\"http://StubbornBeast:4040\">Spark UI</a></p>\n",
       "\n",
       "            <dl>\n",
       "              <dt>Version</dt>\n",
       "                <dd><code>v3.5.1</code></dd>\n",
       "              <dt>Master</dt>\n",
       "                <dd><code>local[*]</code></dd>\n",
       "              <dt>AppName</dt>\n",
       "                <dd><code>PysparkProjectSalesAnalysis</code></dd>\n",
       "            </dl>\n",
       "        </div>\n",
       "        \n",
       "            </div>\n",
       "        "
      ],
      "text/plain": [
       "<pyspark.sql.session.SparkSession at 0x1631e92a690>"
      ]
     },
     "execution_count": 1,
     "metadata": {},
     "output_type": "execute_result"
    }
   ],
   "source": [
    "from pyspark.sql import SparkSession\n",
    "spark = SparkSession.builder.appName(\"PysparkProjectSalesAnalysis\").getOrCreate()\n",
    "spark"
   ]
  },
  {
   "cell_type": "code",
   "execution_count": 2,
   "metadata": {},
   "outputs": [
    {
     "name": "stdout",
     "output_type": "stream",
     "text": [
      "+-----------+---------------+---------+---------------+-------+---------------+-------+------+--------+-------+-----------+----+-----------+--------------------+----------------+--------------------+------------+-------------+--------+----------+---------+---------+---------------+----------------+--------+\n",
      "|ORDERNUMBER|QUANTITYORDERED|PRICEEACH|ORDERLINENUMBER|  SALES|      ORDERDATE| STATUS|QTR_ID|MONTH_ID|YEAR_ID|PRODUCTLINE|MSRP|PRODUCTCODE|        CUSTOMERNAME|           PHONE|        ADDRESSLINE1|ADDRESSLINE2|         CITY|   STATE|POSTALCODE|  COUNTRY|TERRITORY|CONTACTLASTNAME|CONTACTFIRSTNAME|DEALSIZE|\n",
      "+-----------+---------------+---------+---------------+-------+---------------+-------+------+--------+-------+-----------+----+-----------+--------------------+----------------+--------------------+------------+-------------+--------+----------+---------+---------+---------------+----------------+--------+\n",
      "|      10107|             30|     95.7|              2| 2871.0| 2/24/2003 0:00|Shipped|     1|       2|   2003|Motorcycles|  95|   S10_1678|   Land of Toys Inc.|      2125557818|897 Long Airport ...|        NULL|          NYC|      NY|     10022|      USA|       NA|             Yu|            Kwai|   Small|\n",
      "|      10121|             34|    81.35|              5| 2765.9|  5/7/2003 0:00|Shipped|     2|       5|   2003|Motorcycles|  95|   S10_1678|  Reims Collectables|      26.47.1555|  59 rue de l'Abbaye|        NULL|        Reims|    NULL|     51100|   France|     EMEA|        Henriot|            Paul|   Small|\n",
      "|      10134|             41|    94.74|              2|3884.34|  7/1/2003 0:00|Shipped|     3|       7|   2003|Motorcycles|  95|   S10_1678|     Lyon Souveniers|+33 1 46 62 7555|27 rue du Colonel...|        NULL|        Paris|    NULL|     75508|   France|     EMEA|       Da Cunha|          Daniel|  Medium|\n",
      "|      10145|             45|    83.26|              6| 3746.7| 8/25/2003 0:00|Shipped|     3|       8|   2003|Motorcycles|  95|   S10_1678|   Toys4GrownUps.com|      6265557265|  78934 Hillside Dr.|        NULL|     Pasadena|      CA|     90003|      USA|       NA|          Young|           Julie|  Medium|\n",
      "|      10159|             49|    100.0|             14|5205.27|10/10/2003 0:00|Shipped|     4|      10|   2003|Motorcycles|  95|   S10_1678|Corporate Gift Id...|      6505551386|     7734 Strong St.|        NULL|San Francisco|      CA|      NULL|      USA|       NA|          Brown|           Julie|  Medium|\n",
      "|      10168|             36|    96.66|              1|3479.76|10/28/2003 0:00|Shipped|     4|      10|   2003|Motorcycles|  95|   S10_1678|Technics Stores Inc.|      6505556809|   9408 Furth Circle|        NULL|   Burlingame|      CA|     94217|      USA|       NA|         Hirano|            Juri|  Medium|\n",
      "|      10180|             29|    86.13|              9|2497.77|11/11/2003 0:00|Shipped|     4|      11|   2003|Motorcycles|  95|   S10_1678|Daedalus Designs ...|      20.16.1555|184, chausse de T...|        NULL|        Lille|    NULL|     59000|   France|     EMEA|          Rance|         Martine|   Small|\n",
      "|      10188|             48|    100.0|              1|5512.32|11/18/2003 0:00|Shipped|     4|      11|   2003|Motorcycles|  95|   S10_1678|        Herkku Gifts|   +47 2267 3215|Drammen 121, PR 7...|        NULL|       Bergen|    NULL|    N 5804|   Norway|     EMEA|         Oeztan|          Veysel|  Medium|\n",
      "|      10201|             22|    98.57|              2|2168.54| 12/1/2003 0:00|Shipped|     4|      12|   2003|Motorcycles|  95|   S10_1678|     Mini Wheels Co.|      6505555787|5557 North Pendal...|        NULL|San Francisco|      CA|      NULL|      USA|       NA|         Murphy|           Julie|   Small|\n",
      "|      10211|             41|    100.0|             14|4708.44| 1/15/2004 0:00|Shipped|     1|       1|   2004|Motorcycles|  95|   S10_1678|    Auto Canal Petit|  (1) 47.55.6555|   25, rue Lauriston|        NULL|        Paris|    NULL|     75016|   France|     EMEA|        Perrier|       Dominique|  Medium|\n",
      "|      10223|             37|    100.0|              1|3965.66| 2/20/2004 0:00|Shipped|     1|       2|   2004|Motorcycles|  95|   S10_1678|Australian Collec...|    03 9520 4555|   636 St Kilda Road|     Level 3|    Melbourne|Victoria|      3004|Australia|     APAC|       Ferguson|           Peter|  Medium|\n",
      "|      10237|             23|    100.0|              7|2333.12|  4/5/2004 0:00|Shipped|     2|       4|   2004|Motorcycles|  95|   S10_1678|     Vitachrome Inc.|      2125551500|   2678 Kingston Rd.|   Suite 101|          NYC|      NY|     10022|      USA|       NA|          Frick|         Michael|   Small|\n",
      "|      10251|             28|    100.0|              2|3188.64| 5/18/2004 0:00|Shipped|     2|       5|   2004|Motorcycles|  95|   S10_1678|Tekni Collectable...|      2015559350|       7476 Moss Rd.|        NULL|       Newark|      NJ|     94019|      USA|       NA|          Brown|         William|  Medium|\n",
      "|      10263|             34|    100.0|              2|3676.76| 6/28/2004 0:00|Shipped|     2|       6|   2004|Motorcycles|  95|   S10_1678|     Gift Depot Inc.|      2035552570| 25593 South Bay Ln.|        NULL|  Bridgewater|      CT|     97562|      USA|       NA|           King|           Julie|  Medium|\n",
      "|      10275|             45|    92.83|              1|4177.35| 7/23/2004 0:00|Shipped|     3|       7|   2004|Motorcycles|  95|   S10_1678|   La Rochelle Gifts|      40.67.8555|67, rue des Cinqu...|        NULL|       Nantes|    NULL|     44000|   France|     EMEA|        Labrune|          Janine|  Medium|\n",
      "|      10285|             36|    100.0|              6|4099.68| 8/27/2004 0:00|Shipped|     3|       8|   2004|Motorcycles|  95|   S10_1678|Marta's Replicas Co.|      6175558555| 39323 Spinnaker Dr.|        NULL|    Cambridge|      MA|     51247|      USA|       NA|      Hernandez|           Marta|  Medium|\n",
      "|      10299|             23|    100.0|              9|2597.39| 9/30/2004 0:00|Shipped|     3|       9|   2004|Motorcycles|  95|   S10_1678|Toys of Finland, Co.|     90-224 8555|       Keskuskatu 45|        NULL|     Helsinki|    NULL|     21240|  Finland|     EMEA|      Karttunen|           Matti|   Small|\n",
      "|      10309|             41|    100.0|              5|4394.38|10/15/2004 0:00|Shipped|     4|      10|   2004|Motorcycles|  95|   S10_1678|  Baane Mini Imports|      07-98 9555|Erling Skakkes ga...|        NULL|      Stavern|    NULL|      4110|   Norway|     EMEA|     Bergulfsen|           Jonas|  Medium|\n",
      "|      10318|             46|    94.74|              1|4358.04| 11/2/2004 0:00|Shipped|     4|      11|   2004|Motorcycles|  95|   S10_1678|Diecast Classics ...|      2155551555|    7586 Pompton St.|        NULL|    Allentown|      PA|     70267|      USA|       NA|             Yu|           Kyung|  Medium|\n",
      "|      10329|             42|    100.0|              1|4396.14|11/15/2004 0:00|Shipped|     4|      11|   2004|Motorcycles|  95|   S10_1678|   Land of Toys Inc.|      2125557818|897 Long Airport ...|        NULL|          NYC|      NY|     10022|      USA|       NA|             Yu|            Kwai|  Medium|\n",
      "+-----------+---------------+---------+---------------+-------+---------------+-------+------+--------+-------+-----------+----+-----------+--------------------+----------------+--------------------+------------+-------------+--------+----------+---------+---------+---------------+----------------+--------+\n",
      "only showing top 20 rows\n",
      "\n"
     ]
    }
   ],
   "source": [
    "df = spark.read.csv(\"./sales_data_sample.csv\",header=True,inferSchema=True)\n",
    "# print(df)\n",
    "df.show()"
   ]
  },
  {
   "cell_type": "code",
   "execution_count": 3,
   "metadata": {},
   "outputs": [
    {
     "name": "stdout",
     "output_type": "stream",
     "text": [
      "['ORDERNUMBER', 'QUANTITYORDERED', 'PRICEEACH', 'ORDERLINENUMBER', 'SALES', 'ORDERDATE', 'STATUS', 'QTR_ID', 'MONTH_ID', 'YEAR_ID', 'PRODUCTLINE', 'MSRP', 'PRODUCTCODE', 'CUSTOMERNAME', 'PHONE', 'ADDRESSLINE1', 'ADDRESSLINE2', 'CITY', 'STATE', 'POSTALCODE', 'COUNTRY', 'TERRITORY', 'CONTACTLASTNAME', 'CONTACTFIRSTNAME', 'DEALSIZE']\n"
     ]
    }
   ],
   "source": [
    "col=df.columns\n",
    "print(col)"
   ]
  },
  {
   "cell_type": "code",
   "execution_count": 4,
   "metadata": {},
   "outputs": [],
   "source": [
    "# KPIs\n",
    "# Sales Performance\n",
    "# 1. Total Sales: Sum of all `SALES`.\n",
    "# 2. Average Sales per Order: Average of `SALES` per order.\n",
    "# 3. Sales by Product Line: Sum of `SALES` for each `PRODUCTLINE`.\n",
    "# 4. Sales by Territory: Sum of `SALES` for each `TERRITORY`.\n",
    "# 5. Monthly Sales: Sum of `SALES` grouped by `MONTH_ID` and `YEAR_ID`.\n",
    "\n",
    "# Order Performance\n",
    "# 6. Total Orders: Count of all unique `ORDERNUMBER`.\n",
    "# 7. Average Order Value (AOV): Total `SALES` divided by the number of orders.\n",
    "# 8. Order Quantity per Customer: Average of `QUANTITYORDERED` per customer.\n",
    "\n",
    "# Customer Metrics\n",
    "# 9. Top Customers by Sales: Customers with the highest total `SALES`.\n",
    "# 10. Customer Order Frequency: Count of orders per customer.\n",
    "# 11. Average Sales per Customer: Average of `SALES` per customer.\n",
    "\n",
    "# Product Performance\n",
    "# 12. Top-Selling Products: Products with the highest total `QUANTITYORDERED`.\n",
    "# 13. Sales by Product: Total `SALES` for each `PRODUCTCODE`.\n",
    "\n",
    "# Time-Based Metrics\n",
    "# 14. Quarterly Sales: Sum of `SALES` grouped by `QTR_ID` and `YEAR_ID`.\n",
    "# 15. Yearly Sales Growth: Percentage growth in `SALES` year over year.\n",
    "\n",
    "# Operational Metrics\n",
    "# 16. Order Status Distribution: Count of orders in each `STATUS` category."
   ]
  },
  {
   "cell_type": "code",
   "execution_count": 5,
   "metadata": {},
   "outputs": [
    {
     "name": "stdout",
     "output_type": "stream",
     "text": [
      "+-----------+----------------------+\n",
      "|    COUNTRY|Total Sales By Country|\n",
      "+-----------+----------------------+\n",
      "|     Sweden|             210014.21|\n",
      "|Philippines|              94015.73|\n",
      "|  Singapore|    288488.41000000003|\n",
      "|    Germany|    220472.08999999994|\n",
      "|     France|    1110916.5199999993|\n",
      "|    Belgium|             108412.62|\n",
      "|    Finland|     329581.9100000001|\n",
      "|      Italy|    374674.30999999976|\n",
      "|     Norway|     307463.7000000001|\n",
      "|      Spain|    1215686.9200000009|\n",
      "|    Denmark|             245637.15|\n",
      "|    Ireland|              57756.43|\n",
      "|        USA|            3627982.83|\n",
      "|         UK|     478880.4600000001|\n",
      "|Switzerland|    117713.55999999998|\n",
      "|     Canada|    224078.55999999994|\n",
      "|      Japan|    188167.80999999997|\n",
      "|  Australia|     630623.1000000001|\n",
      "|    Austria|             202062.53|\n",
      "+-----------+----------------------+\n",
      "\n"
     ]
    }
   ],
   "source": [
    "#  Total Sales: Sum of all `SALES` group By country\n",
    "from pyspark.sql.functions import sum as _sum\n",
    "\n",
    "TotalSalesByCountry = df.groupBy(\"COUNTRY\").agg(_sum(\"SALES\").alias(\"Total Sales By Country\"))\n",
    "TotalSalesByCountry.show()"
   ]
  },
  {
   "cell_type": "code",
   "execution_count": 6,
   "metadata": {},
   "outputs": [
    {
     "name": "stdout",
     "output_type": "stream",
     "text": [
      "+-----------+------------------+\n",
      "|    COUNTRY|         Total AVG|\n",
      "+-----------+------------------+\n",
      "|     Sweden|3684.4598245614034|\n",
      "|Philippines|3615.9896153846153|\n",
      "|  Singapore| 3651.752025316456|\n",
      "|    Germany| 3556.001451612902|\n",
      "|     France|3537.9507006369404|\n",
      "|    Belgium| 3285.230909090909|\n",
      "|    Finland|3582.4120652173924|\n",
      "|      Italy|3315.7018584070775|\n",
      "|     Norway|3617.2200000000016|\n",
      "|      Spain|3554.6401169590667|\n",
      "|    Denmark| 3899.002380952381|\n",
      "|    Ireland|       3609.776875|\n",
      "|        USA|3613.5287151394423|\n",
      "|         UK|3325.5587500000006|\n",
      "|Switzerland| 3797.211612903225|\n",
      "|     Canada|3201.1222857142848|\n",
      "|      Japan|3618.6117307692302|\n",
      "|  Australia| 3408.773513513514|\n",
      "|    Austria| 3673.864181818182|\n",
      "+-----------+------------------+\n",
      "\n"
     ]
    }
   ],
   "source": [
    "#Average Sales Group By Country\n",
    "\n",
    "from pyspark.sql.functions import avg\n",
    "\n",
    "TotalAvgViaCountry = df.groupBy(\"COUNTRY\").agg(avg(\"SALES\").alias(\"Total AVG\"))\n",
    "TotalAvgViaCountry.show()"
   ]
  },
  {
   "cell_type": "code",
   "execution_count": 7,
   "metadata": {},
   "outputs": [
    {
     "name": "stdout",
     "output_type": "stream",
     "text": [
      "+----------------+------------------+\n",
      "|     PRODUCTLINE|        sum(SALES)|\n",
      "+----------------+------------------+\n",
      "|     Motorcycles|1166388.3400000003|\n",
      "|    Vintage Cars|1903150.8399999992|\n",
      "|           Ships|         714437.13|\n",
      "|Trucks and Buses|1127789.8399999996|\n",
      "|    Classic Cars| 3919615.659999997|\n",
      "|          Trains|226243.46999999997|\n",
      "|          Planes| 975003.5700000001|\n",
      "+----------------+------------------+\n",
      "\n"
     ]
    }
   ],
   "source": [
    "# Total Sales Product \n",
    "TotalSalesViaProduct = df.groupBy(\"PRODUCTLINE\").sum(\"SALES\")\n",
    "TotalSalesViaProduct.show()"
   ]
  },
  {
   "cell_type": "code",
   "execution_count": 14,
   "metadata": {},
   "outputs": [
    {
     "name": "stdout",
     "output_type": "stream",
     "text": [
      "+---------+------------------+\n",
      "|Territory|        sum(SALES)|\n",
      "+---------+------------------+\n",
      "|       NA| 3852061.390000001|\n",
      "|     APAC| 746121.8300000002|\n",
      "|    Japan| 455173.2200000002|\n",
      "|     EMEA|4979272.4099999955|\n",
      "+---------+------------------+\n",
      "\n"
     ]
    }
   ],
   "source": [
    "#Total Sales for each Territory\n",
    "\n",
    "TotalSalesForeacgTerritory = df.groupBy(\"Territory\").sum(\"SALES\").alias(\"Sales Via Territory\")\n",
    "TotalSalesForeacgTerritory.show()\n"
   ]
  },
  {
   "cell_type": "code",
   "execution_count": null,
   "metadata": {},
   "outputs": [
    {
     "name": "stdout",
     "output_type": "stream",
     "text": [
      "+-------+--------+------------------+\n",
      "|YEAR_ID|MONTH_ID|        sum(SALES)|\n",
      "+-------+--------+------------------+\n",
      "|   2005|       5|457861.05999999965|\n",
      "|   2004|       6|         286674.22|\n",
      "|   2003|       2|140836.19000000003|\n",
      "|   2004|       8| 461501.2700000001|\n",
      "|   2003|      10|         568290.97|\n",
      "|   2004|      10|         552924.25|\n",
      "|   2003|       3|          174504.9|\n",
      "|   2003|      12|261876.46000000005|\n",
      "|   2003|       9|         263973.36|\n",
      "|   2003|       1|          129753.6|\n",
      "|   2004|       7| 327144.0899999998|\n",
      "|   2004|       4|206148.12000000008|\n",
      "|   2005|       1|         339543.42|\n",
      "|   2003|      11|1029837.6600000001|\n",
      "|   2005|       3| 374262.7599999999|\n",
      "|   2004|       2| 311419.5299999999|\n",
      "|   2003|       5|         192673.11|\n",
      "|   2003|       7|187731.87999999998|\n",
      "|   2004|       9|320750.91000000003|\n",
      "|   2003|       4|201609.55000000002|\n",
      "+-------+--------+------------------+\n",
      "only showing top 20 rows\n",
      "\n"
     ]
    }
   ],
   "source": [
    "# Total Sales Via Month Sales\n",
    "\n",
    "MonthlySales = df.groupBy(\"YEAR_ID\",\"MONTH_ID\").sum(\"SALES\")\n",
    "MonthlySales.show()"
   ]
  },
  {
   "cell_type": "code",
   "execution_count": null,
   "metadata": {},
   "outputs": [],
   "source": [
    "# Order Performance\n",
    "# Total Orders: Count of all unique ORDERNUMBER.\n",
    "# Average Order Value (AOV): Total SALES divided by the number of orders.\n",
    "# Order Quantity per Customer: Average of QUANTITYORDERED per customer."
   ]
  },
  {
   "cell_type": "code",
   "execution_count": null,
   "metadata": {},
   "outputs": [
    {
     "name": "stdout",
     "output_type": "stream",
     "text": [
      "+-----------+-----+\n",
      "|ORDERNUMBER|count|\n",
      "+-----------+-----+\n",
      "|      10206|   11|\n",
      "|      10362|    4|\n",
      "|      10121|    5|\n",
      "|      10230|    8|\n",
      "|      10395|    4|\n",
      "|      10416|   14|\n",
      "|      10257|    5|\n",
      "|      10264|    7|\n",
      "|      10128|    4|\n",
      "|      10183|   12|\n",
      "|      10143|   16|\n",
      "|      10366|    3|\n",
      "|      10267|    6|\n",
      "|      10293|    9|\n",
      "|      10195|   10|\n",
      "|      10303|    2|\n",
      "|      10162|   10|\n",
      "|      10168|   18|\n",
      "|      10334|    6|\n",
      "|      10371|   12|\n",
      "+-----------+-----+\n",
      "only showing top 20 rows\n",
      "\n"
     ]
    }
   ],
   "source": [
    "# Total Orders: Count of all unique ORDERNUMBER.\n",
    "ORDERNUMBERCount = df.groupBy(\"ORDERNUMBER\").count()\n",
    "ORDERNUMBERCount.show()"
   ]
  },
  {
   "cell_type": "code",
   "execution_count": null,
   "metadata": {},
   "outputs": [
    {
     "name": "stdout",
     "output_type": "stream",
     "text": [
      "+-----------+-------------------------------------------------+\n",
      "|ORDERNUMBER|(sum(SALES) / count(ORDERNUMBER) AS AverageValue)|\n",
      "+-----------+-------------------------------------------------+\n",
      "|      10206|                               3514.7463636363636|\n",
      "|      10362|                                        3382.3925|\n",
      "|      10121|                                         3794.392|\n",
      "|      10230|                                       4658.31125|\n",
      "|      10395|                                        5080.3825|\n",
      "|      10416|                               2964.9957142857143|\n",
      "|      10257|                                          3225.62|\n",
      "|      10264|                                2792.621428571428|\n",
      "|      10128|                                          4362.02|\n",
      "|      10183|                               3338.4716666666664|\n",
      "|      10143|                                      2858.649375|\n",
      "|      10366|                                          5542.72|\n",
      "|      10267|                               3875.3633333333332|\n",
      "|      10293|                                4226.555555555556|\n",
      "|      10195|                               3868.2949999999996|\n",
      "|      10303|                                          1610.44|\n",
      "|      10162|                               3318.0589999999997|\n",
      "|      10168|                               3461.4149999999995|\n",
      "|      10334|                                4376.701666666667|\n",
      "|      10371|                               3010.3558333333335|\n",
      "+-----------+-------------------------------------------------+\n",
      "only showing top 20 rows\n",
      "\n"
     ]
    }
   ],
   "source": [
    "# Average Order Value (AOV): Total SALES divided by the number of orders.\n",
    "from pyspark.sql.functions import count\n",
    "AverageOrderValue = df.groupBy(\"ORDERNUMBER\").agg(_sum(\"SALES\")/count(\"ORDERNUMBER\").alias(\"AverageValue\"))\n",
    "AverageOrderValue.show()"
   ]
  },
  {
   "cell_type": "code",
   "execution_count": 28,
   "metadata": {},
   "outputs": [
    {
     "name": "stdout",
     "output_type": "stream",
     "text": [
      "+--------------------+------------------------+\n",
      "|        CUSTOMERNAME|Average Quantity Ordered|\n",
      "+--------------------+------------------------+\n",
      "| Suominen Souveniers|       34.36666666666667|\n",
      "|  Amica Models & Co.|       32.42307692307692|\n",
      "|Collectables For ...|                  33.125|\n",
      "|         CAF Imports|                    36.0|\n",
      "|   giftsbymail.co.uk|       34.42307692307692|\n",
      "|       Rovelli Gifts|                  34.375|\n",
      "|     Lyon Souveniers|                    34.2|\n",
      "|   La Rochelle Gifts|       34.56603773584906|\n",
      "| L'ordine Souveniers|       32.82051282051282|\n",
      "|Signal Collectibl...|      34.266666666666666|\n",
      "|     Vitachrome Inc.|                   31.48|\n",
      "|Volvo Model Repli...|       34.05263157894737|\n",
      "|Daedalus Designs ...|                   34.95|\n",
      "|Classic Legends Inc.|                    36.0|\n",
      "|     Mini Wheels Co.|       32.95238095238095|\n",
      "|  Signal Gift Stores|       32.03448275862069|\n",
      "|La Corne D'abonda...|       36.34782608695652|\n",
      "|Royal Canadian Co...|       33.57692307692308|\n",
      "|Online Diecast Cr...|      36.705882352941174|\n",
      "|     Cruz & Sons Co.|       36.96153846153846|\n",
      "+--------------------+------------------------+\n",
      "only showing top 20 rows\n",
      "\n"
     ]
    }
   ],
   "source": [
    "# Order Quantity per Customer: Average of QUANTITYORDERED per customer.\n",
    "OrderQualityPerCustomerAverage = df.groupby([\"CUSTOMERNAME\"]).agg(avg(\"QUANTITYORDERED\").alias(\"Average Quantity Ordered\")).show()\n",
    "# df.select(\"QUANTITYORDERED\").show()\n"
   ]
  },
  {
   "cell_type": "code",
   "execution_count": null,
   "metadata": {},
   "outputs": [],
   "source": [
    "# Customer Metrics\n",
    "# Top Customers by Sales: Customers with the highest total SALES.\n",
    "# Customer Order Frequency: Count of orders per customer.\n",
    "# Average Sales per Customer: Average of SALES per customer."
   ]
  },
  {
   "cell_type": "code",
   "execution_count": 35,
   "metadata": {},
   "outputs": [
    {
     "name": "stdout",
     "output_type": "stream",
     "text": [
      "+--------------------+------------------+\n",
      "|        CUSTOMERNAME|       Total Sales|\n",
      "+--------------------+------------------+\n",
      "|    Super Scale Inc.| 4674.827647058824|\n",
      "|         Mini Caravy| 4233.604210526316|\n",
      "|La Corne D'abonda...|  4226.24695652174|\n",
      "|        Royale Belge|         4180.0125|\n",
      "|  Muscle Machine Inc| 4119.519583333333|\n",
      "|     Gift Depot Inc.|4075.7916000000005|\n",
      "|UK Collectables, ...| 4069.250689655172|\n",
      "|Danish Wholesale ...|4028.9333333333334|\n",
      "|Dragon Souveniers...|  4023.01581395349|\n",
      "|The Sharp Gifts W...| 4000.256749999999|\n",
      "|Volvo Model Repli...|3987.0989473684212|\n",
      "|Australian Gift N...|3964.6079999999993|\n",
      "|Tekni Collectable...| 3963.247142857143|\n",
      "|Diecast Classics ...|3939.9400000000005|\n",
      "|Diecast Collectables|3936.6544444444444|\n",
      "|     Lyon Souveniers|3928.5170000000007|\n",
      "|Classic Legends Inc.|3889.7599999999998|\n",
      "|Online Diecast Cr...|  3873.09705882353|\n",
      "|Blauer See Auto, Co.|3871.4359090909084|\n",
      "|Toms Spezialitten...|3857.9453846153847|\n",
      "+--------------------+------------------+\n",
      "only showing top 20 rows\n",
      "\n"
     ]
    }
   ],
   "source": [
    "# Top Customers by Sales: Customers with the highest total SALES\n",
    "\n",
    "Total_Sales_by_Customer = df.groupby(\"CUSTOMERNAME\").agg(avg(\"SALES\").alias(\"Total Sales\"))\n",
    "total_customer_by_sales = Total_Sales_by_Customer.orderBy(\"Total Sales\",ascending=False)\n",
    "total_customer_by_sales.show()\n",
    "# print(df.columns)"
   ]
  },
  {
   "cell_type": "code",
   "execution_count": 42,
   "metadata": {},
   "outputs": [
    {
     "name": "stdout",
     "output_type": "stream",
     "text": [
      "+--------------------+-----------+\n",
      "|        CUSTOMERNAME|Order Count|\n",
      "+--------------------+-----------+\n",
      "| Suominen Souveniers|         30|\n",
      "|  Amica Models & Co.|         26|\n",
      "|Collectables For ...|         24|\n",
      "|         CAF Imports|         13|\n",
      "|   giftsbymail.co.uk|         26|\n",
      "|       Rovelli Gifts|         48|\n",
      "|     Lyon Souveniers|         20|\n",
      "|   La Rochelle Gifts|         53|\n",
      "| L'ordine Souveniers|         39|\n",
      "|Signal Collectibl...|         15|\n",
      "|     Vitachrome Inc.|         25|\n",
      "|Volvo Model Repli...|         19|\n",
      "|Daedalus Designs ...|         20|\n",
      "|Classic Legends Inc.|         20|\n",
      "|     Mini Wheels Co.|         21|\n",
      "|  Signal Gift Stores|         29|\n",
      "|La Corne D'abonda...|         23|\n",
      "|Royal Canadian Co...|         26|\n",
      "|Online Diecast Cr...|         34|\n",
      "|     Cruz & Sons Co.|         26|\n",
      "+--------------------+-----------+\n",
      "only showing top 20 rows\n",
      "\n"
     ]
    }
   ],
   "source": [
    "# Customer Order Frequency: Count of orders per customer.\n",
    "from pyspark.sql.functions import count\n",
    "CountOrderPerCustomer = df.groupBy(\"CUSTOMERNAME\").agg(count(\"ORDERNUMBER\").alias(\"Order Count\"))\n",
    "CountOrderPerCustomer.show()\n",
    "# print(df.columns)"
   ]
  },
  {
   "cell_type": "code",
   "execution_count": 47,
   "metadata": {},
   "outputs": [
    {
     "name": "stdout",
     "output_type": "stream",
     "text": [
      "+--------------------+-------------------+\n",
      "|        CUSTOMERNAME|AvgSalesPerCustomer|\n",
      "+--------------------+-------------------+\n",
      "| Suominen Souveniers|  3798.704999999999|\n",
      "|  Amica Models & Co.| 3619.8946153846164|\n",
      "|Collectables For ...|          3399.0825|\n",
      "|         CAF Imports|  3818.619230769231|\n",
      "|   giftsbymail.co.uk| 3009.2630769230764|\n",
      "|       Rovelli Gifts|  2874.077500000001|\n",
      "|     Lyon Souveniers| 3928.5170000000007|\n",
      "|   La Rochelle Gifts| 3398.5830188679242|\n",
      "| L'ordine Souveniers| 3656.4443589743596|\n",
      "|Signal Collectibl...| 3347.9006666666673|\n",
      "|     Vitachrome Inc.| 3521.6504000000004|\n",
      "|Volvo Model Repli...| 3987.0989473684212|\n",
      "|Daedalus Designs ...|          3452.6205|\n",
      "|Classic Legends Inc.| 3889.7599999999998|\n",
      "|     Mini Wheels Co.| 3546.4847619047614|\n",
      "|  Signal Gift Stores|   2853.48551724138|\n",
      "|La Corne D'abonda...|   4226.24695652174|\n",
      "|Royal Canadian Co...| 2870.5711538461537|\n",
      "|Online Diecast Cr...|   3873.09705882353|\n",
      "|     Cruz & Sons Co.| 3615.9896153846153|\n",
      "+--------------------+-------------------+\n",
      "only showing top 20 rows\n",
      "\n"
     ]
    }
   ],
   "source": [
    "# Average Sales per Customer: Average of SALES per customer.\n",
    "AvgSalesPerCustomer = df.groupBy(\"CUSTOMERNAME\").agg(avg(\"SALES\").alias(\"AvgSalesPerCustomer\"))\n",
    "AvgSalesPerCustomer.show()\n",
    "# print(df.columns)"
   ]
  },
  {
   "cell_type": "code",
   "execution_count": null,
   "metadata": {},
   "outputs": [],
   "source": [
    "# Product Performance\n",
    "# Top-Selling Products: Products with the highest total QUANTITYORDERED.\n",
    "# Sales by Product: Total SALES for each PRODUCTCODE."
   ]
  },
  {
   "cell_type": "code",
   "execution_count": 51,
   "metadata": {},
   "outputs": [
    {
     "name": "stdout",
     "output_type": "stream",
     "text": [
      "+-----------+----------------------+\n",
      "|PRODUCTCODE|Total Selling Products|\n",
      "+-----------+----------------------+\n",
      "|   S18_4600|                  1031|\n",
      "|   S18_1749|                   802|\n",
      "|   S12_3891|                   921|\n",
      "|   S18_2248|                   743|\n",
      "|  S700_1138|                   902|\n",
      "|   S32_1268|                   873|\n",
      "|   S12_1099|                   838|\n",
      "|   S18_2795|                   789|\n",
      "|   S24_1937|                   844|\n",
      "|   S32_3522|                   957|\n",
      "|   S18_1097|                   999|\n",
      "|   S18_1662|                   940|\n",
      "|   S12_1666|                   972|\n",
      "|   S24_3969|                   745|\n",
      "|   S24_1578|                   931|\n",
      "|   S24_4048|                   844|\n",
      "|   S18_3320|                   909|\n",
      "|   S24_3816|                   870|\n",
      "|   S18_3136|                   873|\n",
      "|   S32_2509|                   955|\n",
      "+-----------+----------------------+\n",
      "only showing top 20 rows\n",
      "\n"
     ]
    }
   ],
   "source": [
    "# Top-Selling Products: Products with the highest total QUANTITYORDERED.\n",
    "# print(df.columns)\n",
    "\n",
    "TotalSellingProducts = df.groupBy(\"PRODUCTCODE\").agg(_sum(\"QUANTITYORDERED\").alias(\"Total Selling Products\"))\n",
    "TotalSellingProducts.show()\n",
    "\n",
    "\n"
   ]
  },
  {
   "cell_type": "code",
   "execution_count": 52,
   "metadata": {},
   "outputs": [
    {
     "name": "stdout",
     "output_type": "stream",
     "text": [
      "+-----------+---------------------------------+\n",
      "|PRODUCTCODE|Total Sales for each product code|\n",
      "+-----------+---------------------------------+\n",
      "|   S18_4600|               123723.07999999999|\n",
      "|   S18_1749|                        127310.42|\n",
      "|   S12_3891|                        145332.04|\n",
      "|   S18_2248|               52161.649999999994|\n",
      "|  S700_1138|                64362.16999999999|\n",
      "|   S32_1268|                         90826.41|\n",
      "|   S12_1099|                        137177.01|\n",
      "|   S18_2795|                         125199.3|\n",
      "|   S24_1937|                         47981.09|\n",
      "|   S32_3522|                77278.62000000001|\n",
      "|   S18_1097|                        106086.56|\n",
      "|   S18_1662|                        139421.97|\n",
      "|   S12_1666|                        136692.72|\n",
      "|   S24_3969|                         33181.66|\n",
      "|   S24_1578|                         99240.03|\n",
      "|   S24_4048|                99789.06999999999|\n",
      "|   S18_3320|                99535.45999999999|\n",
      "|   S24_3816|                70170.62000000001|\n",
      "|   S18_3136|                88195.03999999998|\n",
      "|   S32_2509|                61979.50000000001|\n",
      "+-----------+---------------------------------+\n",
      "only showing top 20 rows\n",
      "\n"
     ]
    }
   ],
   "source": [
    "# Sales by Product: Total  for each PRODUCTCODE.\n",
    "TotalSalesForEachProductCode = df.groupBy(\"PRODUCTCODE\").agg(_sum(\"SALES\").alias(\"Total Sales for each product code\"))\n",
    "TotalSalesForEachProductCode.show()"
   ]
  },
  {
   "cell_type": "code",
   "execution_count": null,
   "metadata": {},
   "outputs": [],
   "source": [
    "# Time-Based Metrics\n",
    "# Quarterly Sales: Sum of SALES grouped by QTR_ID and YEAR_ID.\n",
    "# Yearly Sales Growth: Percentage growth in SALES year over year."
   ]
  },
  {
   "cell_type": "code",
   "execution_count": 58,
   "metadata": {},
   "outputs": [
    {
     "name": "stdout",
     "output_type": "stream",
     "text": [
      "+------+-------+------------------+\n",
      "|QTR_ID|YEAR_ID|    Quaterly Sales|\n",
      "+------+-------+------------------+\n",
      "|     1|   2003| 445094.6900000002|\n",
      "|     2|   2003|         562365.22|\n",
      "|     3|   2003| 649514.5399999999|\n",
      "|     4|   2003|1860005.0899999987|\n",
      "|     1|   2004| 833730.6800000005|\n",
      "|     2|   2004| 766260.7299999996|\n",
      "|     3|   2004|1109396.2700000005|\n",
      "|     4|   2004|2014774.9199999995|\n",
      "|     1|   2005|1071992.3600000003|\n",
      "|     2|   2005| 719494.3500000001|\n",
      "+------+-------+------------------+\n",
      "\n"
     ]
    }
   ],
   "source": [
    "# Quarterly Sales: Sum of SALES grouped by QTR_ID and YEAR_ID.\n",
    "QuarterlySales = df.groupBy([\"QTR_ID\",\"YEAR_ID\"]).agg(_sum(\"SALES\").alias(\"Quaterly Sales\"))\n",
    "QuarterlySales = QuarterlySales.orderBy([\"YEAR_ID\",\"QTR_ID\"])\n",
    "QuarterlySales.show()"
   ]
  },
  {
   "cell_type": "code",
   "execution_count": 64,
   "metadata": {},
   "outputs": [
    {
     "name": "stdout",
     "output_type": "stream",
     "text": [
      "+-------+-----------------+-------------------+----------------------+\n",
      "|YEAR_ID|      Total Sales|Previous Year Sales|Yearly Sales Groth (%)|\n",
      "+-------+-----------------+-------------------+----------------------+\n",
      "|   2003|3516979.540000001|               NULL|                  NULL|\n",
      "|   2004|4724162.599999997|  3516979.540000001|    34.324426578836324|\n",
      "|   2005|       1791486.71|  4724162.599999997|    -62.07821657112308|\n",
      "+-------+-----------------+-------------------+----------------------+\n",
      "\n"
     ]
    }
   ],
   "source": [
    "# Yearly Sales Growth: Percentage growth in SALES year over year.\n",
    "\n",
    "# Step 1: Calculate the total sales for each year\n",
    "# yearly_sales = df.groupBy(\"YEAR_ID\").agg(_sum(\"SALES\").alias(\"Total Sales\")).orderBy(\"YEAR_ID\")\n",
    "\n",
    "# # Step 2: Calculate the year-over-year growth percentage\n",
    "# # Use the Window function to get the previous year's sales\n",
    "# window_spec = Window.orderBy(\"YEAR_ID\")\n",
    "# yearly_sales_with_lag = yearly_sales.withColumn(\"Previous Year Sales\", lag(col(\"Total Sales\")).over(window_spec))\n",
    "\n",
    "# # Calculate the percentage growth\n",
    "# yearly_sales_growth = yearly_sales_with_lag.withColumn(\n",
    "#     \"Yearly Sales Growth (%)\",\n",
    "#     ((col(\"Total Sales\") - col(\"Previous Year Sales\")) / col(\"Previous Year Sales\")) * 100\n",
    "# )\n",
    "\n",
    "# # Show the results\n",
    "# yearly_sales_growth.show()\n",
    "#!important\n",
    "\n",
    "from pyspark.sql.window import Window\n",
    "from pyspark.sql.functions import lag,col\n",
    "\n",
    "yearly_sales = df.groupBy(\"YEAR_ID\").agg(_sum(\"SALES\").alias(\"Total Sales\")).orderBy(\"YEAR_ID\")\n",
    "\n",
    "Window_Spec = Window.orderBy(\"YEAR_ID\")\n",
    "yearly_sales_with_lag = yearly_sales.withColumn(\"Previous Year Sales\",lag(col(\"Total Sales\")).over(Window_Spec))\n",
    "\n",
    "yearly_sales_groth = yearly_sales_with_lag.withColumn(\n",
    "    \"Yearly Sales Groth (%)\",\n",
    "    ((col(\"Total Sales\")-col(\"Previous Year Sales\"))/col(\"Previous Year Sales\"))*100\n",
    ")\n",
    "\n",
    "yearly_sales_groth.show()\n",
    "\n",
    "\n"
   ]
  },
  {
   "cell_type": "code",
   "execution_count": null,
   "metadata": {},
   "outputs": [],
   "source": [
    "# Operational Metrics\n",
    "# Order Status Distribution: Count of orders in each STATUS category."
   ]
  },
  {
   "cell_type": "code",
   "execution_count": 76,
   "metadata": {},
   "outputs": [
    {
     "name": "stdout",
     "output_type": "stream",
     "text": [
      "+--------------------+-----------+\n",
      "|        CUSTOMERNAME|Order Count|\n",
      "+--------------------+-----------+\n",
      "| Suominen Souveniers|         30|\n",
      "|  Amica Models & Co.|         26|\n",
      "|Collectables For ...|         24|\n",
      "|         CAF Imports|         13|\n",
      "|   giftsbymail.co.uk|         26|\n",
      "|       Rovelli Gifts|         48|\n",
      "|     Lyon Souveniers|         20|\n",
      "|   La Rochelle Gifts|         53|\n",
      "| L'ordine Souveniers|         39|\n",
      "|Signal Collectibl...|         15|\n",
      "|     Vitachrome Inc.|         25|\n",
      "|Volvo Model Repli...|         19|\n",
      "|Daedalus Designs ...|         20|\n",
      "|Classic Legends Inc.|         20|\n",
      "|     Mini Wheels Co.|         21|\n",
      "|  Signal Gift Stores|         29|\n",
      "|La Corne D'abonda...|         23|\n",
      "|Royal Canadian Co...|         26|\n",
      "|Online Diecast Cr...|         34|\n",
      "|     Cruz & Sons Co.|         26|\n",
      "+--------------------+-----------+\n",
      "only showing top 20 rows\n",
      "\n"
     ]
    }
   ],
   "source": [
    "# print(df.columns)\n",
    "CountOrderInStatusCategory = df.groupBy(\"STATUS\").agg(count(\"ORDERNUMBER\").alias(\"Order Count\"))\n",
    "CountOrderPerCustomer.show()"
   ]
  }
 ],
 "metadata": {
  "kernelspec": {
   "display_name": "Python 3",
   "language": "python",
   "name": "python3"
  },
  "language_info": {
   "codemirror_mode": {
    "name": "ipython",
    "version": 3
   },
   "file_extension": ".py",
   "mimetype": "text/x-python",
   "name": "python",
   "nbconvert_exporter": "python",
   "pygments_lexer": "ipython3",
   "version": "3.11.9"
  }
 },
 "nbformat": 4,
 "nbformat_minor": 2
}
